{
 "cells": [
  {
   "cell_type": "code",
   "execution_count": 1,
   "metadata": {},
   "outputs": [
    {
     "name": "stderr",
     "output_type": "stream",
     "text": [
      "C:\\Users\\Admin\\.conda\\envs\\yolo5\\lib\\site-packages\\tqdm\\auto.py:22: TqdmWarning: IProgress not found. Please update jupyter and ipywidgets. See https://ipywidgets.readthedocs.io/en/stable/user_install.html\n",
      "  from .autonotebook import tqdm as notebook_tqdm\n"
     ]
    }
   ],
   "source": [
    "import pandas as pd\n",
    "import numpy as np\n",
    "import matplotlib.pyplot as plt\n",
    "import shap\n",
    "from sklearn.model_selection import train_test_split\n",
    "from sklearn.metrics import roc_auc_score, accuracy_score\n",
    "\n",
    "import torch\n",
    "import torch.nn as nn\n",
    "import torch.nn.functional as F\n",
    "from torch.autograd import Variable\n",
    "import torch.optim as optim"
   ]
  },
  {
   "cell_type": "code",
   "execution_count": 2,
   "metadata": {},
   "outputs": [],
   "source": [
    "import os\n",
    "os.environ[\"PYTHONIOENCODING\"] = \"gb2312\""
   ]
  },
  {
   "cell_type": "code",
   "execution_count": 3,
   "metadata": {},
   "outputs": [],
   "source": [
    "# !chcp 65001\n",
    "# !dir /b /s"
   ]
  },
  {
   "cell_type": "code",
   "execution_count": 4,
   "metadata": {},
   "outputs": [
    {
     "data": {
      "text/html": [
       "<div>\n",
       "<style scoped>\n",
       "    .dataframe tbody tr th:only-of-type {\n",
       "        vertical-align: middle;\n",
       "    }\n",
       "\n",
       "    .dataframe tbody tr th {\n",
       "        vertical-align: top;\n",
       "    }\n",
       "\n",
       "    .dataframe thead th {\n",
       "        text-align: right;\n",
       "    }\n",
       "</style>\n",
       "<table border=\"1\" class=\"dataframe\">\n",
       "  <thead>\n",
       "    <tr style=\"text-align: right;\">\n",
       "      <th></th>\n",
       "      <th>Survived</th>\n",
       "      <th>Pclass</th>\n",
       "      <th>Sex</th>\n",
       "      <th>Age</th>\n",
       "      <th>SibSp</th>\n",
       "      <th>Parch</th>\n",
       "      <th>Fare</th>\n",
       "      <th>Embarked</th>\n",
       "    </tr>\n",
       "  </thead>\n",
       "  <tbody>\n",
       "    <tr>\n",
       "      <th>count</th>\n",
       "      <td>713.000000</td>\n",
       "      <td>713.000000</td>\n",
       "      <td>713.000000</td>\n",
       "      <td>713.000000</td>\n",
       "      <td>713.000000</td>\n",
       "      <td>713.000000</td>\n",
       "      <td>713.000000</td>\n",
       "      <td>713.000000</td>\n",
       "    </tr>\n",
       "    <tr>\n",
       "      <th>mean</th>\n",
       "      <td>0.382889</td>\n",
       "      <td>2.318373</td>\n",
       "      <td>0.346424</td>\n",
       "      <td>29.533310</td>\n",
       "      <td>0.528752</td>\n",
       "      <td>0.391304</td>\n",
       "      <td>31.829552</td>\n",
       "      <td>0.368864</td>\n",
       "    </tr>\n",
       "    <tr>\n",
       "      <th>std</th>\n",
       "      <td>0.486433</td>\n",
       "      <td>0.833573</td>\n",
       "      <td>0.476164</td>\n",
       "      <td>13.092235</td>\n",
       "      <td>1.140213</td>\n",
       "      <td>0.820922</td>\n",
       "      <td>50.108026</td>\n",
       "      <td>0.655560</td>\n",
       "    </tr>\n",
       "    <tr>\n",
       "      <th>min</th>\n",
       "      <td>0.000000</td>\n",
       "      <td>1.000000</td>\n",
       "      <td>0.000000</td>\n",
       "      <td>0.670000</td>\n",
       "      <td>0.000000</td>\n",
       "      <td>0.000000</td>\n",
       "      <td>0.000000</td>\n",
       "      <td>0.000000</td>\n",
       "    </tr>\n",
       "    <tr>\n",
       "      <th>25%</th>\n",
       "      <td>0.000000</td>\n",
       "      <td>2.000000</td>\n",
       "      <td>0.000000</td>\n",
       "      <td>22.000000</td>\n",
       "      <td>0.000000</td>\n",
       "      <td>0.000000</td>\n",
       "      <td>7.925000</td>\n",
       "      <td>0.000000</td>\n",
       "    </tr>\n",
       "    <tr>\n",
       "      <th>50%</th>\n",
       "      <td>0.000000</td>\n",
       "      <td>3.000000</td>\n",
       "      <td>0.000000</td>\n",
       "      <td>28.750000</td>\n",
       "      <td>0.000000</td>\n",
       "      <td>0.000000</td>\n",
       "      <td>14.454200</td>\n",
       "      <td>0.000000</td>\n",
       "    </tr>\n",
       "    <tr>\n",
       "      <th>75%</th>\n",
       "      <td>1.000000</td>\n",
       "      <td>3.000000</td>\n",
       "      <td>1.000000</td>\n",
       "      <td>35.000000</td>\n",
       "      <td>1.000000</td>\n",
       "      <td>0.000000</td>\n",
       "      <td>31.275000</td>\n",
       "      <td>1.000000</td>\n",
       "    </tr>\n",
       "    <tr>\n",
       "      <th>max</th>\n",
       "      <td>1.000000</td>\n",
       "      <td>3.000000</td>\n",
       "      <td>1.000000</td>\n",
       "      <td>80.000000</td>\n",
       "      <td>8.000000</td>\n",
       "      <td>6.000000</td>\n",
       "      <td>512.329200</td>\n",
       "      <td>3.000000</td>\n",
       "    </tr>\n",
       "  </tbody>\n",
       "</table>\n",
       "</div>"
      ],
      "text/plain": [
       "         Survived      Pclass         Sex         Age       SibSp       Parch  \\\n",
       "count  713.000000  713.000000  713.000000  713.000000  713.000000  713.000000   \n",
       "mean     0.382889    2.318373    0.346424   29.533310    0.528752    0.391304   \n",
       "std      0.486433    0.833573    0.476164   13.092235    1.140213    0.820922   \n",
       "min      0.000000    1.000000    0.000000    0.670000    0.000000    0.000000   \n",
       "25%      0.000000    2.000000    0.000000   22.000000    0.000000    0.000000   \n",
       "50%      0.000000    3.000000    0.000000   28.750000    0.000000    0.000000   \n",
       "75%      1.000000    3.000000    1.000000   35.000000    1.000000    0.000000   \n",
       "max      1.000000    3.000000    1.000000   80.000000    8.000000    6.000000   \n",
       "\n",
       "             Fare    Embarked  \n",
       "count  713.000000  713.000000  \n",
       "mean    31.829552    0.368864  \n",
       "std     50.108026    0.655560  \n",
       "min      0.000000    0.000000  \n",
       "25%      7.925000    0.000000  \n",
       "50%     14.454200    0.000000  \n",
       "75%     31.275000    1.000000  \n",
       "max    512.329200    3.000000  "
      ]
     },
     "execution_count": 4,
     "metadata": {},
     "output_type": "execute_result"
    }
   ],
   "source": [
    "data = pd.read_csv('../data/titanic/train_treated.csv')\n",
    "data.describe(include = 'all')"
   ]
  },
  {
   "cell_type": "code",
   "execution_count": 5,
   "metadata": {},
   "outputs": [],
   "source": [
    "# nn记得normalization\n",
    "for col in data.columns:\n",
    "    data[col] = data[col]  / data[col].abs().max()"
   ]
  },
  {
   "cell_type": "code",
   "execution_count": 6,
   "metadata": {},
   "outputs": [],
   "source": [
    "x = data.drop('Survived', axis = 1)\n",
    "y = data['Survived']\n",
    "train_X, test_X, train_Y, test_Y = train_test_split(x, y, test_size = 0.2)\n",
    "\n",
    "# 批量转成tensor而已，写得比较骚\n",
    "train_x, test_x, train_y, test_y = map(lambda x:torch.Tensor(x.values), [train_X, test_X, train_Y, test_Y])"
   ]
  },
  {
   "cell_type": "code",
   "execution_count": 7,
   "metadata": {},
   "outputs": [
    {
     "data": {
      "text/plain": [
       "torch.Size([570, 7])"
      ]
     },
     "execution_count": 7,
     "metadata": {},
     "output_type": "execute_result"
    }
   ],
   "source": [
    "train_x.shape"
   ]
  },
  {
   "cell_type": "code",
   "execution_count": 8,
   "metadata": {},
   "outputs": [],
   "source": [
    "# 随便弄个网络\n",
    "class Net(nn.Module):\n",
    "    def __init__(self):\n",
    "        super(Net, self).__init__()\n",
    "        self.layer1 = nn.Linear(7, 128)\n",
    "        self.layer2 = nn.Linear(128, 32)\n",
    "        self.layer3 = nn.Linear(32, 2)\n",
    "    \n",
    "    def forward(self, x):\n",
    "        x = F.relu(self.layer1(x))\n",
    "        x = F.relu(self.layer2(x))\n",
    "        x = self.layer3(x)\n",
    "        return F.softmax(x, dim = 1)"
   ]
  },
  {
   "cell_type": "code",
   "execution_count": 9,
   "metadata": {},
   "outputs": [
    {
     "name": "stdout",
     "output_type": "stream",
     "text": [
      "Net(\n",
      "  (layer1): Linear(in_features=7, out_features=128, bias=True)\n",
      "  (layer2): Linear(in_features=128, out_features=32, bias=True)\n",
      "  (layer3): Linear(in_features=32, out_features=2, bias=True)\n",
      ")\n"
     ]
    }
   ],
   "source": [
    "model = Net()\n",
    "print(model)"
   ]
  },
  {
   "cell_type": "code",
   "execution_count": 10,
   "metadata": {},
   "outputs": [
    {
     "name": "stdout",
     "output_type": "stream",
     "text": [
      "Step: 0\tLoss: 0.726\tCurrent Accuracy: 0.393\tCurrent Auc: 0.739\n",
      "Step: 50\tLoss: 0.717\tCurrent Accuracy: 0.393\tCurrent Auc: 0.745\n",
      "Step: 100\tLoss: 0.710\tCurrent Accuracy: 0.393\tCurrent Auc: 0.754\n",
      "Step: 150\tLoss: 0.704\tCurrent Accuracy: 0.393\tCurrent Auc: 0.768\n",
      "Step: 200\tLoss: 0.698\tCurrent Accuracy: 0.393\tCurrent Auc: 0.783\n",
      "Step: 250\tLoss: 0.692\tCurrent Accuracy: 0.393\tCurrent Auc: 0.794\n",
      "Step: 300\tLoss: 0.687\tCurrent Accuracy: 0.393\tCurrent Auc: 0.800\n",
      "Step: 350\tLoss: 0.683\tCurrent Accuracy: 0.414\tCurrent Auc: 0.804\n",
      "Step: 400\tLoss: 0.679\tCurrent Accuracy: 0.744\tCurrent Auc: 0.806\n",
      "Step: 450\tLoss: 0.675\tCurrent Accuracy: 0.777\tCurrent Auc: 0.807\n",
      "Step: 500\tLoss: 0.672\tCurrent Accuracy: 0.789\tCurrent Auc: 0.809\n",
      "Step: 550\tLoss: 0.668\tCurrent Accuracy: 0.793\tCurrent Auc: 0.809\n",
      "Step: 600\tLoss: 0.665\tCurrent Accuracy: 0.796\tCurrent Auc: 0.810\n",
      "Step: 650\tLoss: 0.663\tCurrent Accuracy: 0.786\tCurrent Auc: 0.810\n",
      "Step: 700\tLoss: 0.660\tCurrent Accuracy: 0.758\tCurrent Auc: 0.810\n",
      "Step: 750\tLoss: 0.657\tCurrent Accuracy: 0.742\tCurrent Auc: 0.809\n",
      "Step: 800\tLoss: 0.655\tCurrent Accuracy: 0.726\tCurrent Auc: 0.811\n",
      "Step: 850\tLoss: 0.653\tCurrent Accuracy: 0.698\tCurrent Auc: 0.812\n",
      "Step: 900\tLoss: 0.650\tCurrent Accuracy: 0.679\tCurrent Auc: 0.813\n",
      "Step: 950\tLoss: 0.648\tCurrent Accuracy: 0.667\tCurrent Auc: 0.813\n",
      "Step: 1000\tLoss: 0.646\tCurrent Accuracy: 0.651\tCurrent Auc: 0.814\n"
     ]
    }
   ],
   "source": [
    "epochs = 1000\n",
    "optimizer = optim.SGD(model.parameters(), lr = 0.001)\n",
    "train_loss = []\n",
    "train_acc = []\n",
    "train_auc = []\n",
    "\n",
    "i = 0\n",
    "\n",
    "model.train()\n",
    "\n",
    "for epoch in range(epochs):\n",
    "    X, real_y = Variable(train_x), Variable(train_y)\n",
    "    optimizer.zero_grad()\n",
    "    pred_y = model(X) #此时pred_y 等同于xgb和sklearn内pred_proba\n",
    "    loss = F.binary_cross_entropy(pred_y[:, 1], real_y)\n",
    "    loss.backward()\n",
    "    train_loss.append(loss.data.item())\n",
    "    optimizer.step()\n",
    "    pred_class = torch.argmax(pred_y, dim=1)\n",
    "    cur_acc = accuracy_score(real_y, pred_class)\n",
    "    prob = pred_y.detach().numpy()[:,1]\n",
    "    cur_auc = roc_auc_score(real_y, prob)\n",
    "    train_acc.append(cur_acc)\n",
    "    train_auc.append(cur_auc)\n",
    "    if i % 50 == 0:\n",
    "        print('Step: {}\\tLoss: {:.3f}\\tCurrent Accuracy: {:.3f}\\tCurrent Auc: {:.3f}'.format(i, train_loss[i], train_acc[i], train_auc[i]))\n",
    "    i += 1\n",
    "\n",
    "print('Step: {}\\tLoss: {:.3f}\\tCurrent Accuracy: {:.3f}\\tCurrent Auc: {:.3f}'.format(i, train_loss[-1], train_acc[-1], train_auc[-1]))"
   ]
  },
  {
   "cell_type": "code",
   "execution_count": 11,
   "metadata": {},
   "outputs": [
    {
     "data": {
      "text/plain": [
       "0.873643074250977"
      ]
     },
     "execution_count": 11,
     "metadata": {},
     "output_type": "execute_result"
    }
   ],
   "source": [
    "model.eval()\n",
    "test_res = model(Variable(test_x))\n",
    "roc_auc_score(test_y, test_res.detach().numpy()[:,1])"
   ]
  },
  {
   "cell_type": "code",
   "execution_count": 12,
   "metadata": {},
   "outputs": [
    {
     "name": "stderr",
     "output_type": "stream",
     "text": [
      "Using a non-full backward hook when the forward contains multiple autograd Nodes is deprecated and will be removed in future versions. This hook will be missing some grad_input. Please use register_full_backward_hook to get the documented behavior.\n"
     ]
    }
   ],
   "source": [
    "explainer = shap.DeepExplainer(model, torch.Tensor(x.values))\n",
    "shap_matrix = explainer.shap_values(torch.Tensor(x.values))"
   ]
  },
  {
   "cell_type": "code",
   "execution_count": 13,
   "metadata": {},
   "outputs": [
    {
     "data": {
      "image/png": "[encoded data removed]",
      "text/plain": [
       "<Figure size 576x309.6 with 2 Axes>"
      ]
     },
     "metadata": {
      "needs_background": "light"
     },
     "output_type": "display_data"
    }
   ],
   "source": [
    "shap.summary_plot(shap_values=shap_matrix[1],\n",
    "                 features=x,\n",
    "                 feature_names=x.columns.tolist())"
   ]
  },
  {
   "cell_type": "code",
   "execution_count": 14,
   "metadata": {},
   "outputs": [
    {
     "data": {
      "image/png": "[encoded data removed]",
      "text/plain": [
       "<Figure size 576x309.6 with 1 Axes>"
      ]
     },
     "metadata": {
      "needs_background": "light"
     },
     "output_type": "display_data"
    }
   ],
   "source": [
    "shap.summary_plot(shap_values = shap_matrix,features = x, feature_names=x.columns.tolist(),  plot_type='bar', class_names=['Died', 'Survived'])"
   ]
  }
 ],
 "metadata": {
  "interpreter": {
   "hash": "b927eeb454f7f5701c3808b7a40cb7baa39cd5efe259cdfca3f3edde640f3f34"
  },
  "kernelspec": {
   "display_name": "Python 3.7.10 ('yolo5')",
   "language": "python",
   "name": "python3"
  },
  "language_info": {
   "codemirror_mode": {
    "name": "ipython",
    "version": 3
   },
   "file_extension": ".py",
   "mimetype": "text/x-python",
   "name": "python",
   "nbconvert_exporter": "python",
   "pygments_lexer": "ipython3",
   "version": "3.7.10"
  },
  "orig_nbformat": 4
 },
 "nbformat": 4,
 "nbformat_minor": 2
}
