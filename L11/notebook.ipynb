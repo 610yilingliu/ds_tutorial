{
 "cells": [
  {
   "cell_type": "code",
   "execution_count": 1,
   "metadata": {},
   "outputs": [],
   "source": [
    "import numpy as np\n",
    "import pandas as pd\n",
    "train_data = pd.read_csv(\"./data/train.csv\",encoding='utf-8')\n",
    "test_data = pd.read_csv(\"./data/test.csv\",encoding='utf-8')"
   ]
  },
  {
   "cell_type": "code",
   "execution_count": 2,
   "metadata": {},
   "outputs": [
    {
     "output_type": "execute_result",
     "data": {
      "text/plain": [
       "         id                                              title  \\\n",
       "0  83dcefb7  ????发表了博文《【富金利】9月富金利教你如何安全提高最大化收益！》网络理财时代参与互联网...   \n",
       "1  1ad5be0d  #小资钱包涉嫌诈骗[超话]##小资钱包[超话]##迫切急待回归活命钱##头号直通中纪委[超话...   \n",
       "2  6dd28e9b  ?????扫黑除恶 诈骗犯齐聚海淀，保护伞根深蒂固，黑社会嚣张跋扈，出借人走投无路！ 尊敬的...   \n",
       "3  1db87a14  平安银行车主贷?????? 1??期限长至48期?? 2??滴滴司机可做?? 3??白户逾期...   \n",
       "4  fa005713                                                NaN   \n",
       "\n",
       "                                                text  negative  \n",
       "0  ????发表了博文《【富金利】9月富金利教你如何安全提高最大化收益！》网络理财时代参与互联网...         0  \n",
       "1  #小资钱包涉嫌诈骗[超话]##小资钱包[超话]##迫切急待回归活命钱##头号直通中纪委[超话...         1  \n",
       "2  ?????扫黑除恶 诈骗犯齐聚海淀，保护伞根深蒂固，黑社会嚣张跋扈，出借人走投无路！ 尊敬的...         1  \n",
       "3  平安银行车主贷?????? 1??期限长至48期?? 2??滴滴司机可做?? 3??白户逾期...         0  \n",
       "4                                 旺旺贷跑路！深圳警方确定投资人被骗！         1  "
      ],
      "text/html": "<div>\n<style scoped>\n    .dataframe tbody tr th:only-of-type {\n        vertical-align: middle;\n    }\n\n    .dataframe tbody tr th {\n        vertical-align: top;\n    }\n\n    .dataframe thead th {\n        text-align: right;\n    }\n</style>\n<table border=\"1\" class=\"dataframe\">\n  <thead>\n    <tr style=\"text-align: right;\">\n      <th></th>\n      <th>id</th>\n      <th>title</th>\n      <th>text</th>\n      <th>negative</th>\n    </tr>\n  </thead>\n  <tbody>\n    <tr>\n      <th>0</th>\n      <td>83dcefb7</td>\n      <td>????发表了博文《【富金利】9月富金利教你如何安全提高最大化收益！》网络理财时代参与互联网...</td>\n      <td>????发表了博文《【富金利】9月富金利教你如何安全提高最大化收益！》网络理财时代参与互联网...</td>\n      <td>0</td>\n    </tr>\n    <tr>\n      <th>1</th>\n      <td>1ad5be0d</td>\n      <td>#小资钱包涉嫌诈骗[超话]##小资钱包[超话]##迫切急待回归活命钱##头号直通中纪委[超话...</td>\n      <td>#小资钱包涉嫌诈骗[超话]##小资钱包[超话]##迫切急待回归活命钱##头号直通中纪委[超话...</td>\n      <td>1</td>\n    </tr>\n    <tr>\n      <th>2</th>\n      <td>6dd28e9b</td>\n      <td>?????扫黑除恶 诈骗犯齐聚海淀，保护伞根深蒂固，黑社会嚣张跋扈，出借人走投无路！ 尊敬的...</td>\n      <td>?????扫黑除恶 诈骗犯齐聚海淀，保护伞根深蒂固，黑社会嚣张跋扈，出借人走投无路！ 尊敬的...</td>\n      <td>1</td>\n    </tr>\n    <tr>\n      <th>3</th>\n      <td>1db87a14</td>\n      <td>平安银行车主贷?????? 1??期限长至48期?? 2??滴滴司机可做?? 3??白户逾期...</td>\n      <td>平安银行车主贷?????? 1??期限长至48期?? 2??滴滴司机可做?? 3??白户逾期...</td>\n      <td>0</td>\n    </tr>\n    <tr>\n      <th>4</th>\n      <td>fa005713</td>\n      <td>NaN</td>\n      <td>旺旺贷跑路！深圳警方确定投资人被骗！</td>\n      <td>1</td>\n    </tr>\n  </tbody>\n</table>\n</div>"
     },
     "metadata": {},
     "execution_count": 2
    }
   ],
   "source": [
    "train_data.head()"
   ]
  },
  {
   "cell_type": "code",
   "execution_count": 3,
   "metadata": {},
   "outputs": [
    {
     "output_type": "execute_result",
     "data": {
      "text/plain": [
       "         id                                              title  \\\n",
       "0  f3b61b38  ????#小资钱包涉嫌诈骗[超话]#李兆民～海淀区资易贷(小资钱包)诈骗证据集锦 绳之以法李...   \n",
       "1  84b12bae  蚂蚁花呗换现金现代生活飞速地发展，纵横驰骋京东白条漂洋过海。人学始知道，不学非自然。——孟郊...   \n",
       "2  6abf4a82                                                NaN   \n",
       "3  8d076785  宜贷网易捷金融岂止假标，供链贷诈骗1.03亿，阴阳合同，拿出借人的钱去线下放高利贷，收天价砍...   \n",
       "4  d65a1577                                                NaN   \n",
       "\n",
       "                                                text  \n",
       "0  ????#小资钱包涉嫌诈骗[超话]#李兆民～海淀区资易贷(小资钱包)诈骗证据集锦 绳之以法李...  \n",
       "1  蚂蚁花呗换现金现代生活飞速地发展，纵横驰骋京东白条漂洋过海。人学始知道，不学非自然。——孟郊...  \n",
       "2  嘉石榴副总经理娄振发表示，引入银行对网贷平台的资金进行全量存管，意在规避平台挪用资金，但是要...  \n",
       "3  宜贷网易捷金融岂止假标，供链贷诈骗1.03亿，阴阳合同，拿出借人的钱去线下放高利贷，收天价砍...  \n",
       "4  赵立军说，一年来，相继侦破了阿勒泰11·17炒贵金属现货金融诈骗案件、喀什5·9诈骗单位财会...  "
      ],
      "text/html": "<div>\n<style scoped>\n    .dataframe tbody tr th:only-of-type {\n        vertical-align: middle;\n    }\n\n    .dataframe tbody tr th {\n        vertical-align: top;\n    }\n\n    .dataframe thead th {\n        text-align: right;\n    }\n</style>\n<table border=\"1\" class=\"dataframe\">\n  <thead>\n    <tr style=\"text-align: right;\">\n      <th></th>\n      <th>id</th>\n      <th>title</th>\n      <th>text</th>\n    </tr>\n  </thead>\n  <tbody>\n    <tr>\n      <th>0</th>\n      <td>f3b61b38</td>\n      <td>????#小资钱包涉嫌诈骗[超话]#李兆民～海淀区资易贷(小资钱包)诈骗证据集锦 绳之以法李...</td>\n      <td>????#小资钱包涉嫌诈骗[超话]#李兆民～海淀区资易贷(小资钱包)诈骗证据集锦 绳之以法李...</td>\n    </tr>\n    <tr>\n      <th>1</th>\n      <td>84b12bae</td>\n      <td>蚂蚁花呗换现金现代生活飞速地发展，纵横驰骋京东白条漂洋过海。人学始知道，不学非自然。——孟郊...</td>\n      <td>蚂蚁花呗换现金现代生活飞速地发展，纵横驰骋京东白条漂洋过海。人学始知道，不学非自然。——孟郊...</td>\n    </tr>\n    <tr>\n      <th>2</th>\n      <td>6abf4a82</td>\n      <td>NaN</td>\n      <td>嘉石榴副总经理娄振发表示，引入银行对网贷平台的资金进行全量存管，意在规避平台挪用资金，但是要...</td>\n    </tr>\n    <tr>\n      <th>3</th>\n      <td>8d076785</td>\n      <td>宜贷网易捷金融岂止假标，供链贷诈骗1.03亿，阴阳合同，拿出借人的钱去线下放高利贷，收天价砍...</td>\n      <td>宜贷网易捷金融岂止假标，供链贷诈骗1.03亿，阴阳合同，拿出借人的钱去线下放高利贷，收天价砍...</td>\n    </tr>\n    <tr>\n      <th>4</th>\n      <td>d65a1577</td>\n      <td>NaN</td>\n      <td>赵立军说，一年来，相继侦破了阿勒泰11·17炒贵金属现货金融诈骗案件、喀什5·9诈骗单位财会...</td>\n    </tr>\n  </tbody>\n</table>\n</div>"
     },
     "metadata": {},
     "execution_count": 3
    }
   ],
   "source": [
    "test_data.head()"
   ]
  },
  {
   "cell_type": "code",
   "execution_count": 4,
   "metadata": {},
   "outputs": [
    {
     "output_type": "execute_result",
     "data": {
      "text/plain": [
       "              id                          title  \\\n",
       "count       4999                           3660   \n",
       "unique      4999                           3643   \n",
       "top     d0bff797  票据宝被立案仍发新标 董事长李华军兼任常宁珠江村镇银行董事   \n",
       "freq           1                              3   \n",
       "mean         NaN                            NaN   \n",
       "std          NaN                            NaN   \n",
       "min          NaN                            NaN   \n",
       "25%          NaN                            NaN   \n",
       "50%          NaN                            NaN   \n",
       "75%          NaN                            NaN   \n",
       "max          NaN                            NaN   \n",
       "\n",
       "                                                     text     negative  \n",
       "count                                                4999  4999.000000  \n",
       "unique                                               4998          NaN  \n",
       "top     发表了博文《【富金利】9月富金利教你如何安全提高最大化收益！》网络理财时代参与互联网投资理财...          NaN  \n",
       "freq                                                    2          NaN  \n",
       "mean                                                  NaN     0.553111  \n",
       "std                                                   NaN     0.497221  \n",
       "min                                                   NaN     0.000000  \n",
       "25%                                                   NaN     0.000000  \n",
       "50%                                                   NaN     1.000000  \n",
       "75%                                                   NaN     1.000000  \n",
       "max                                                   NaN     1.000000  "
      ],
      "text/html": "<div>\n<style scoped>\n    .dataframe tbody tr th:only-of-type {\n        vertical-align: middle;\n    }\n\n    .dataframe tbody tr th {\n        vertical-align: top;\n    }\n\n    .dataframe thead th {\n        text-align: right;\n    }\n</style>\n<table border=\"1\" class=\"dataframe\">\n  <thead>\n    <tr style=\"text-align: right;\">\n      <th></th>\n      <th>id</th>\n      <th>title</th>\n      <th>text</th>\n      <th>negative</th>\n    </tr>\n  </thead>\n  <tbody>\n    <tr>\n      <th>count</th>\n      <td>4999</td>\n      <td>3660</td>\n      <td>4999</td>\n      <td>4999.000000</td>\n    </tr>\n    <tr>\n      <th>unique</th>\n      <td>4999</td>\n      <td>3643</td>\n      <td>4998</td>\n      <td>NaN</td>\n    </tr>\n    <tr>\n      <th>top</th>\n      <td>d0bff797</td>\n      <td>票据宝被立案仍发新标 董事长李华军兼任常宁珠江村镇银行董事</td>\n      <td>发表了博文《【富金利】9月富金利教你如何安全提高最大化收益！》网络理财时代参与互联网投资理财...</td>\n      <td>NaN</td>\n    </tr>\n    <tr>\n      <th>freq</th>\n      <td>1</td>\n      <td>3</td>\n      <td>2</td>\n      <td>NaN</td>\n    </tr>\n    <tr>\n      <th>mean</th>\n      <td>NaN</td>\n      <td>NaN</td>\n      <td>NaN</td>\n      <td>0.553111</td>\n    </tr>\n    <tr>\n      <th>std</th>\n      <td>NaN</td>\n      <td>NaN</td>\n      <td>NaN</td>\n      <td>0.497221</td>\n    </tr>\n    <tr>\n      <th>min</th>\n      <td>NaN</td>\n      <td>NaN</td>\n      <td>NaN</td>\n      <td>0.000000</td>\n    </tr>\n    <tr>\n      <th>25%</th>\n      <td>NaN</td>\n      <td>NaN</td>\n      <td>NaN</td>\n      <td>0.000000</td>\n    </tr>\n    <tr>\n      <th>50%</th>\n      <td>NaN</td>\n      <td>NaN</td>\n      <td>NaN</td>\n      <td>1.000000</td>\n    </tr>\n    <tr>\n      <th>75%</th>\n      <td>NaN</td>\n      <td>NaN</td>\n      <td>NaN</td>\n      <td>1.000000</td>\n    </tr>\n    <tr>\n      <th>max</th>\n      <td>NaN</td>\n      <td>NaN</td>\n      <td>NaN</td>\n      <td>1.000000</td>\n    </tr>\n  </tbody>\n</table>\n</div>"
     },
     "metadata": {},
     "execution_count": 4
    }
   ],
   "source": [
    "train_data.describe(include = 'all')"
   ]
  },
  {
   "source": [
    "从negative的mean中可以看出,正负标签数量差距并不大,可以简单使用accuracy作为评价指标\n",
    "\n",
    "title和text可以合并起来作为一个新的变量(即内容), 并抛弃原title与text"
   ],
   "cell_type": "markdown",
   "metadata": {}
  },
  {
   "cell_type": "code",
   "execution_count": 5,
   "metadata": {},
   "outputs": [
    {
     "output_type": "execute_result",
     "data": {
      "text/plain": [
       "                  id                                              title  \\\n",
       "train 0     83dcefb7  ????发表了博文《【富金利】9月富金利教你如何安全提高最大化收益！》网络理财时代参与互联网...   \n",
       "      1     1ad5be0d  #小资钱包涉嫌诈骗[超话]##小资钱包[超话]##迫切急待回归活命钱##头号直通中纪委[超话...   \n",
       "      2     6dd28e9b  ?????扫黑除恶 诈骗犯齐聚海淀，保护伞根深蒂固，黑社会嚣张跋扈，出借人走投无路！ 尊敬的...   \n",
       "      3     1db87a14  平安银行车主贷?????? 1??期限长至48期?? 2??滴滴司机可做?? 3??白户逾期...   \n",
       "      4     fa005713                                                NaN   \n",
       "...              ...                                                ...   \n",
       "test  4995  cf4782db  生活因京东白条是京东推出的“先消费，#京东白条提现#后付款”的全新支付方式，主要用于京东商城...   \n",
       "      4996  36895a84                                                NaN   \n",
       "      4997  46e3ae0b  //@宜贷网诈骗-难民: 回复@旧诺言:宜贷网清盘收割三万出借人，伙同西部最大套路贷公司：成...   \n",
       "      4998  31e49e9d  ????#头号直通中纪委[超话]##小资钱包涉嫌诈骗[超话]##小资钱包涉嫌诈骗[超话]#@...   \n",
       "      4999  77bc7d45  蚂蚁花呗换现金现代生活飞速地发展，纵横驰骋京东白条漂洋过海。知识就是力量。——培育 要在相对...   \n",
       "\n",
       "                                                         text  \n",
       "train 0     ????发表了博文《【富金利】9月富金利教你如何安全提高最大化收益！》网络理财时代参与互联网...  \n",
       "      1     #小资钱包涉嫌诈骗[超话]##小资钱包[超话]##迫切急待回归活命钱##头号直通中纪委[超话...  \n",
       "      2     ?????扫黑除恶 诈骗犯齐聚海淀，保护伞根深蒂固，黑社会嚣张跋扈，出借人走投无路！ 尊敬的...  \n",
       "      3     平安银行车主贷?????? 1??期限长至48期?? 2??滴滴司机可做?? 3??白户逾期...  \n",
       "      4                                    旺旺贷跑路！深圳警方确定投资人被骗！  \n",
       "...                                                       ...  \n",
       "test  4995  生活因京东白条是京东推出的先消费，#京东白条提现#后付款的全新支付方式，主要用于京东商城等场...  \n",
       "      4996  对爱贷金服，瑞丰寄售行等多家金融信贷机构、典当、寄售行在辖区内开展的业务中是否存在非法吸收公...  \n",
       "      4997  //@宜贷网诈骗-难民: 回复@旧诺言:宜贷网清盘收割三万出借人，伙同西部最大套路贷公司：成...  \n",
       "      4998  ????#头号直通中纪委[超话]##小资钱包涉嫌诈骗[超话]##小资钱包涉嫌诈骗[超话]#@...  \n",
       "      4999  蚂蚁花呗换现金现代生活飞速地发展，纵横驰骋京东白条漂洋过海。知识就是力量。——培育 要在相对...  \n",
       "\n",
       "[9999 rows x 3 columns]"
      ],
      "text/html": "<div>\n<style scoped>\n    .dataframe tbody tr th:only-of-type {\n        vertical-align: middle;\n    }\n\n    .dataframe tbody tr th {\n        vertical-align: top;\n    }\n\n    .dataframe thead th {\n        text-align: right;\n    }\n</style>\n<table border=\"1\" class=\"dataframe\">\n  <thead>\n    <tr style=\"text-align: right;\">\n      <th></th>\n      <th></th>\n      <th>id</th>\n      <th>title</th>\n      <th>text</th>\n    </tr>\n  </thead>\n  <tbody>\n    <tr>\n      <th rowspan=\"5\" valign=\"top\">train</th>\n      <th>0</th>\n      <td>83dcefb7</td>\n      <td>????发表了博文《【富金利】9月富金利教你如何安全提高最大化收益！》网络理财时代参与互联网...</td>\n      <td>????发表了博文《【富金利】9月富金利教你如何安全提高最大化收益！》网络理财时代参与互联网...</td>\n    </tr>\n    <tr>\n      <th>1</th>\n      <td>1ad5be0d</td>\n      <td>#小资钱包涉嫌诈骗[超话]##小资钱包[超话]##迫切急待回归活命钱##头号直通中纪委[超话...</td>\n      <td>#小资钱包涉嫌诈骗[超话]##小资钱包[超话]##迫切急待回归活命钱##头号直通中纪委[超话...</td>\n    </tr>\n    <tr>\n      <th>2</th>\n      <td>6dd28e9b</td>\n      <td>?????扫黑除恶 诈骗犯齐聚海淀，保护伞根深蒂固，黑社会嚣张跋扈，出借人走投无路！ 尊敬的...</td>\n      <td>?????扫黑除恶 诈骗犯齐聚海淀，保护伞根深蒂固，黑社会嚣张跋扈，出借人走投无路！ 尊敬的...</td>\n    </tr>\n    <tr>\n      <th>3</th>\n      <td>1db87a14</td>\n      <td>平安银行车主贷?????? 1??期限长至48期?? 2??滴滴司机可做?? 3??白户逾期...</td>\n      <td>平安银行车主贷?????? 1??期限长至48期?? 2??滴滴司机可做?? 3??白户逾期...</td>\n    </tr>\n    <tr>\n      <th>4</th>\n      <td>fa005713</td>\n      <td>NaN</td>\n      <td>旺旺贷跑路！深圳警方确定投资人被骗！</td>\n    </tr>\n    <tr>\n      <th>...</th>\n      <th>...</th>\n      <td>...</td>\n      <td>...</td>\n      <td>...</td>\n    </tr>\n    <tr>\n      <th rowspan=\"5\" valign=\"top\">test</th>\n      <th>4995</th>\n      <td>cf4782db</td>\n      <td>生活因京东白条是京东推出的“先消费，#京东白条提现#后付款”的全新支付方式，主要用于京东商城...</td>\n      <td>生活因京东白条是京东推出的先消费，#京东白条提现#后付款的全新支付方式，主要用于京东商城等场...</td>\n    </tr>\n    <tr>\n      <th>4996</th>\n      <td>36895a84</td>\n      <td>NaN</td>\n      <td>对爱贷金服，瑞丰寄售行等多家金融信贷机构、典当、寄售行在辖区内开展的业务中是否存在非法吸收公...</td>\n    </tr>\n    <tr>\n      <th>4997</th>\n      <td>46e3ae0b</td>\n      <td>//@宜贷网诈骗-难民: 回复@旧诺言:宜贷网清盘收割三万出借人，伙同西部最大套路贷公司：成...</td>\n      <td>//@宜贷网诈骗-难民: 回复@旧诺言:宜贷网清盘收割三万出借人，伙同西部最大套路贷公司：成...</td>\n    </tr>\n    <tr>\n      <th>4998</th>\n      <td>31e49e9d</td>\n      <td>????#头号直通中纪委[超话]##小资钱包涉嫌诈骗[超话]##小资钱包涉嫌诈骗[超话]#@...</td>\n      <td>????#头号直通中纪委[超话]##小资钱包涉嫌诈骗[超话]##小资钱包涉嫌诈骗[超话]#@...</td>\n    </tr>\n    <tr>\n      <th>4999</th>\n      <td>77bc7d45</td>\n      <td>蚂蚁花呗换现金现代生活飞速地发展，纵横驰骋京东白条漂洋过海。知识就是力量。——培育 要在相对...</td>\n      <td>蚂蚁花呗换现金现代生活飞速地发展，纵横驰骋京东白条漂洋过海。知识就是力量。——培育 要在相对...</td>\n    </tr>\n  </tbody>\n</table>\n<p>9999 rows × 3 columns</p>\n</div>"
     },
     "metadata": {},
     "execution_count": 5
    }
   ],
   "source": [
    "# 提取出训练目标\n",
    "train_lables = train_data.pop('negative')\n",
    "# 将训练集和测试集合并，可以简便后续数据预处理\n",
    "features = pd.concat([train_data, test_data], keys=['train', 'test'])\n",
    "features"
   ]
  },
  {
   "cell_type": "code",
   "execution_count": 6,
   "metadata": {},
   "outputs": [],
   "source": [
    "#用！填充数据中的缺失项(!可后期去停止词去除掉，不会对建模产生影响)\n",
    "features['title'] = features['title'].fillna('!')\n",
    "features['text'] = features['text'].fillna('!')"
   ]
  },
  {
   "cell_type": "code",
   "execution_count": 7,
   "metadata": {},
   "outputs": [
    {
     "output_type": "execute_result",
     "data": {
      "text/plain": [
       "                  id                                              total\n",
       "train 0     83dcefb7  ????发表了博文《【富金利】9月富金利教你如何安全提高最大化收益！》网络理财时代参与互联网...\n",
       "      1     1ad5be0d  #小资钱包涉嫌诈骗[超话]##小资钱包[超话]##迫切急待回归活命钱##头号直通中纪委[超话...\n",
       "      2     6dd28e9b  ?????扫黑除恶 诈骗犯齐聚海淀，保护伞根深蒂固，黑社会嚣张跋扈，出借人走投无路！ 尊敬的...\n",
       "      3     1db87a14  平安银行车主贷?????? 1??期限长至48期?? 2??滴滴司机可做?? 3??白户逾期...\n",
       "      4     fa005713                                !旺旺贷跑路！深圳警方确定投资人被骗！\n",
       "...              ...                                                ...\n",
       "test  4995  cf4782db  生活因京东白条是京东推出的“先消费，#京东白条提现#后付款”的全新支付方式，主要用于京东商城...\n",
       "      4996  36895a84  !对爱贷金服，瑞丰寄售行等多家金融信贷机构、典当、寄售行在辖区内开展的业务中是否存在非法吸收...\n",
       "      4997  46e3ae0b  //@宜贷网诈骗-难民: 回复@旧诺言:宜贷网清盘收割三万出借人，伙同西部最大套路贷公司：成...\n",
       "      4998  31e49e9d  ????#头号直通中纪委[超话]##小资钱包涉嫌诈骗[超话]##小资钱包涉嫌诈骗[超话]#@...\n",
       "      4999  77bc7d45  蚂蚁花呗换现金现代生活飞速地发展，纵横驰骋京东白条漂洋过海。知识就是力量。——培育 要在相对...\n",
       "\n",
       "[9999 rows x 2 columns]"
      ],
      "text/html": "<div>\n<style scoped>\n    .dataframe tbody tr th:only-of-type {\n        vertical-align: middle;\n    }\n\n    .dataframe tbody tr th {\n        vertical-align: top;\n    }\n\n    .dataframe thead th {\n        text-align: right;\n    }\n</style>\n<table border=\"1\" class=\"dataframe\">\n  <thead>\n    <tr style=\"text-align: right;\">\n      <th></th>\n      <th></th>\n      <th>id</th>\n      <th>total</th>\n    </tr>\n  </thead>\n  <tbody>\n    <tr>\n      <th rowspan=\"5\" valign=\"top\">train</th>\n      <th>0</th>\n      <td>83dcefb7</td>\n      <td>????发表了博文《【富金利】9月富金利教你如何安全提高最大化收益！》网络理财时代参与互联网...</td>\n    </tr>\n    <tr>\n      <th>1</th>\n      <td>1ad5be0d</td>\n      <td>#小资钱包涉嫌诈骗[超话]##小资钱包[超话]##迫切急待回归活命钱##头号直通中纪委[超话...</td>\n    </tr>\n    <tr>\n      <th>2</th>\n      <td>6dd28e9b</td>\n      <td>?????扫黑除恶 诈骗犯齐聚海淀，保护伞根深蒂固，黑社会嚣张跋扈，出借人走投无路！ 尊敬的...</td>\n    </tr>\n    <tr>\n      <th>3</th>\n      <td>1db87a14</td>\n      <td>平安银行车主贷?????? 1??期限长至48期?? 2??滴滴司机可做?? 3??白户逾期...</td>\n    </tr>\n    <tr>\n      <th>4</th>\n      <td>fa005713</td>\n      <td>!旺旺贷跑路！深圳警方确定投资人被骗！</td>\n    </tr>\n    <tr>\n      <th>...</th>\n      <th>...</th>\n      <td>...</td>\n      <td>...</td>\n    </tr>\n    <tr>\n      <th rowspan=\"5\" valign=\"top\">test</th>\n      <th>4995</th>\n      <td>cf4782db</td>\n      <td>生活因京东白条是京东推出的“先消费，#京东白条提现#后付款”的全新支付方式，主要用于京东商城...</td>\n    </tr>\n    <tr>\n      <th>4996</th>\n      <td>36895a84</td>\n      <td>!对爱贷金服，瑞丰寄售行等多家金融信贷机构、典当、寄售行在辖区内开展的业务中是否存在非法吸收...</td>\n    </tr>\n    <tr>\n      <th>4997</th>\n      <td>46e3ae0b</td>\n      <td>//@宜贷网诈骗-难民: 回复@旧诺言:宜贷网清盘收割三万出借人，伙同西部最大套路贷公司：成...</td>\n    </tr>\n    <tr>\n      <th>4998</th>\n      <td>31e49e9d</td>\n      <td>????#头号直通中纪委[超话]##小资钱包涉嫌诈骗[超话]##小资钱包涉嫌诈骗[超话]#@...</td>\n    </tr>\n    <tr>\n      <th>4999</th>\n      <td>77bc7d45</td>\n      <td>蚂蚁花呗换现金现代生活飞速地发展，纵横驰骋京东白条漂洋过海。知识就是力量。——培育 要在相对...</td>\n    </tr>\n  </tbody>\n</table>\n<p>9999 rows × 2 columns</p>\n</div>"
     },
     "metadata": {},
     "execution_count": 7
    }
   ],
   "source": [
    "features['total'] = features['title'] + features['text']\n",
    "features.drop(['title','text'],axis=1,inplace=True)\n",
    "features"
   ]
  },
  {
   "cell_type": "code",
   "execution_count": 8,
   "metadata": {},
   "outputs": [],
   "source": [
    "import jieba\n",
    "#导入中文停用词表\n",
    "with open(\"./data/Chinsesstop.txt\",\"r\",encoding=\"utf-8\") as f :\n",
    "    tingyongci = f.read()\n",
    "#去掉停用词表中的分行符\n",
    "tingyongci_list = tingyongci.split('\\n')"
   ]
  },
  {
   "cell_type": "code",
   "execution_count": 9,
   "metadata": {},
   "outputs": [
    {
     "output_type": "stream",
     "name": "stderr",
     "text": [
      "Building prefix dict from the default dictionary ...\n",
      "Loading model from cache C:\\Users\\Admin\\AppData\\Local\\Temp\\jieba.cache\n",
      "Loading model cost 0.727 seconds.\n",
      "Prefix dict has been built successfully.\n"
     ]
    },
    {
     "output_type": "execute_result",
     "data": {
      "text/plain": [
       "1"
      ]
     },
     "metadata": {},
     "execution_count": 9
    }
   ],
   "source": [
    "#对jieba分词库的补充,分词库中大概率不包括这些词语, 为了谨慎起见添加\n",
    "jieba.suggest_freq(\"旺旺贷\",True)\n",
    "jieba.suggest_freq(\"跑路\",True)\n",
    "jieba.suggest_freq(\"花呗\",True)"
   ]
  },
  {
   "cell_type": "code",
   "execution_count": 10,
   "metadata": {},
   "outputs": [],
   "source": [
    "features['final'] = None\n",
    "qutingyongci_list = []\n",
    "counter = 0     #循环计数器\n",
    "while counter < len(features.loc['train']):\n",
    "    total = features.loc['train','total'][counter]\n",
    "    total_fenci = jieba.cut(total)\n",
    "    for word in total_fenci: \n",
    "        for each in word.split(\"/ \"): \n",
    "            if not (each.strip() in tingyongci_list) and len(each.strip()) > 1: \n",
    "                qutingyongci_list.append(each) \n",
    "    features.loc['train','final'][counter] = str(\" \".join(qutingyongci_list))\n",
    "    counter = counter + 1\n",
    "    qutingyongci_list = []"
   ]
  },
  {
   "cell_type": "code",
   "execution_count": 11,
   "metadata": {},
   "outputs": [],
   "source": [
    "qutingyongci_list = []\n",
    "counter = 0     #循环计数器\n",
    "while counter < len(features.loc['test']):\n",
    "    total = features.loc['test','total'][counter]\n",
    "    total_fenci = jieba.cut(total)\n",
    "    for word in total_fenci: \n",
    "        for each in word.split(\"/ \"): \n",
    "            if not (each.strip() in tingyongci_list) and len(each.strip()) > 1: \n",
    "                qutingyongci_list.append(each) \n",
    "    features.loc['test','final'][counter] = str(\" \".join(qutingyongci_list))\n",
    "    counter = counter + 1\n",
    "    qutingyongci_list = []"
   ]
  },
  {
   "cell_type": "code",
   "execution_count": 12,
   "metadata": {},
   "outputs": [
    {
     "output_type": "execute_result",
     "data": {
      "text/plain": [
       "(9999, 41035)"
      ]
     },
     "metadata": {},
     "execution_count": 12
    }
   ],
   "source": [
    "from sklearn.feature_extraction.text import TfidfVectorizer\n",
    "tv = TfidfVectorizer(use_idf=True, smooth_idf=True, norm=None)\n",
    "vec = tv.fit_transform(features['final'])\n",
    "vec_np = vec.toarray()\n",
    "vec_np.shape"
   ]
  },
  {
   "cell_type": "code",
   "execution_count": 13,
   "metadata": {},
   "outputs": [
    {
     "output_type": "execute_result",
     "data": {
      "text/plain": [
       "(4999, 41035)"
      ]
     },
     "metadata": {},
     "execution_count": 13
    }
   ],
   "source": [
    "train_vec = vec_np[:4999,:]\n",
    "train_vec.shape"
   ]
  },
  {
   "cell_type": "code",
   "execution_count": 14,
   "metadata": {},
   "outputs": [
    {
     "output_type": "execute_result",
     "data": {
      "text/plain": [
       "(5000, 41035)"
      ]
     },
     "metadata": {},
     "execution_count": 14
    }
   ],
   "source": [
    "test_vec = vec_np[-5000:,:]\n",
    "test_vec.shape"
   ]
  },
  {
   "cell_type": "code",
   "execution_count": 15,
   "metadata": {},
   "outputs": [],
   "source": [
    "from sklearn.preprocessing import StandardScaler\n",
    "scaler = StandardScaler()\n",
    "train_vec_st = scaler.fit_transform(train_vec)\n",
    "test_vec_st = scaler.fit_transform(test_vec)"
   ]
  },
  {
   "cell_type": "code",
   "execution_count": 16,
   "metadata": {},
   "outputs": [],
   "source": [
    "#打乱训练集顺序\n",
    "from sklearn.utils import shuffle\n",
    "from sklearn.model_selection import train_test_split\n",
    "train_vec_st,train_lables = shuffle(train_vec_st, train_lables, random_state = 5)\n",
    "#将训练数据随机分为训练集和测试集\n",
    "x_train, x_test, y_train, y_test = train_test_split(train_vec_st,train_lables, test_size=0.3, random_state=200)"
   ]
  },
  {
   "cell_type": "markdown",
   "metadata": {},
   "source": [
    "# 建模（XGBoost）"
   ]
  },
  {
   "cell_type": "code",
   "execution_count": 17,
   "metadata": {},
   "outputs": [
    {
     "output_type": "stream",
     "name": "stderr",
     "text": [
      "C:\\Users\\Admin\\.conda\\envs\\nlp\\lib\\site-packages\\xgboost\\sklearn.py:888: UserWarning: The use of label encoder in XGBClassifier is deprecated and will be removed in a future release. To remove this warning, do the following: 1) Pass option use_label_encoder=False when constructing XGBClassifier object; and 2) Encode your labels (y) as integers starting with 0, i.e. 0, 1, 2, ..., [num_class - 1].\n  warnings.warn(label_encoder_deprecation_msg, UserWarning)\n"
     ]
    }
   ],
   "source": [
    "import xgboost as xgb\n",
    "# 仅使用了5个estimator, 如果需要更加精确, 建议把n_estimator调大\n",
    "xgb_model = xgb.XGBClassifier(objective=\"binary:logitraw\",max_depth=25,gamma=0.1,subsample=0.90,learning_rate=0.01,n_estimators=5,nthread=1)\n",
    "xgb_model.fit(x_train,y_train)\n",
    "y_predict = xgb_model.predict(x_test)"
   ]
  },
  {
   "cell_type": "code",
   "execution_count": 15,
   "metadata": {},
   "outputs": [
    {
     "data": {
      "text/plain": [
       "array([[614,  28],\n",
       "       [ 67, 791]], dtype=int64)"
      ]
     },
     "execution_count": 15,
     "metadata": {},
     "output_type": "execute_result"
    }
   ],
   "source": [
    "#混淆矩阵查看测试分类效果\n",
    "from sklearn.metrics import confusion_matrix\n",
    "cm = confusion_matrix(y_test,y_predict)\n",
    "cm"
   ]
  },
  {
   "cell_type": "code",
   "execution_count": 16,
   "metadata": {},
   "outputs": [
    {
     "name": "stdout",
     "output_type": "stream",
     "text": [
      "             precision    recall  f1-score   support\n",
      "\n",
      "          0       0.90      0.96      0.93       642\n",
      "          1       0.97      0.92      0.94       858\n",
      "\n",
      "avg / total       0.94      0.94      0.94      1500\n",
      "\n"
     ]
    }
   ],
   "source": [
    "#分类指标\n",
    "from sklearn.metrics import classification_report\n",
    "print(classification_report(y_test,y_predict))"
   ]
  },
  {
   "cell_type": "code",
   "execution_count": 18,
   "metadata": {},
   "outputs": [
    {
     "name": "stdout",
     "output_type": "stream",
     "text": [
      "AUC Score :  0.9876769129105578\n"
     ]
    }
   ],
   "source": [
    "#AUC的值计算\n",
    "from sklearn.metrics import accuracy_score\n",
    "# 输入训练集，返回每个样本对应到每种分类结果的概率\n",
    "logit_scores_proba = xgb_model.predict_proba(x_test)\n",
    "# 返回分类1的概率\n",
    "logit_scores = logit_scores_proba[:,1]\n",
    "print ('Accuracy Score : ', (accuracy_score(y_test,logit_scores)))"
   ]
  },
  {
   "cell_type": "markdown",
   "metadata": {},
   "source": [
    "# 输出"
   ]
  },
  {
   "cell_type": "code",
   "execution_count": 19,
   "metadata": {},
   "outputs": [
    {
     "name": "stderr",
     "output_type": "stream",
     "text": [
      "c:\\users\\lenovo\\appdata\\local\\programs\\python\\python36\\lib\\site-packages\\sklearn\\preprocessing\\label.py:151: DeprecationWarning: The truth value of an empty array is ambiguous. Returning False, but in future this will result in an error. Use `array.size > 0` to check that an array is not empty.\n",
      "  if diff:\n"
     ]
    },
    {
     "data": {
      "text/plain": [
       "(5000,)"
      ]
     },
     "execution_count": 19,
     "metadata": {},
     "output_type": "execute_result"
    }
   ],
   "source": [
    "final_predict = xgb_model.predict(test_vec_st)\n",
    "final_predict.shape"
   ]
  },
  {
   "cell_type": "code",
   "execution_count": 20,
   "metadata": {},
   "outputs": [],
   "source": [
    "#存入csv\n",
    "Final = pd.DataFrame({'id':test_data['id'],'negative':final_predict})"
   ]
  },
  {
   "cell_type": "code",
   "execution_count": null,
   "metadata": {},
   "outputs": [],
   "source": []
  }
 ],
 "metadata": {
  "kernelspec": {
   "name": "python3",
   "display_name": "Python 3.8.10 64-bit ('nlp': conda)"
  },
  "language_info": {
   "codemirror_mode": {
    "name": "ipython",
    "version": 3
   },
   "file_extension": ".py",
   "mimetype": "text/x-python",
   "name": "python",
   "nbconvert_exporter": "python",
   "pygments_lexer": "ipython3",
   "version": "3.8.10"
  },
  "interpreter": {
   "hash": "08b31a4af6a45b17d8d1ab51ff43e02a0cd38311e97e454fda2d96e27eb06b13"
  }
 },
 "nbformat": 4,
 "nbformat_minor": 4
}