{
 "metadata": {
  "language_info": {
   "codemirror_mode": {
    "name": "ipython",
    "version": 3
   },
   "file_extension": ".py",
   "mimetype": "text/x-python",
   "name": "python",
   "nbconvert_exporter": "python",
   "pygments_lexer": "ipython3",
   "version": "3.8.8"
  },
  "orig_nbformat": 4,
  "kernelspec": {
   "name": "python3",
   "display_name": "Python 3.8.8 64-bit ('analyze': conda)"
  },
  "interpreter": {
   "hash": "3f995880c754bdaedb88803473eeb53b37ff86989258e46b15709c0dad5ca37b"
  }
 },
 "nbformat": 4,
 "nbformat_minor": 2,
 "cells": [
  {
   "cell_type": "code",
   "execution_count": 1,
   "metadata": {},
   "outputs": [],
   "source": [
    "import pandas as pd\n",
    "import numpy as np\n",
    "from sklearn.model_selection import train_test_split"
   ]
  },
  {
   "source": [
    "由于我们在上一讲已经做过数据预览,所以这里不进行数据可视化和清洗等工作. \n",
    "\n",
    "数据是全部有标注的,我们将标注全部转换为数字后仅保留20%的标注数据,将其余数据的标注变为空\n"
   ],
   "cell_type": "markdown",
   "metadata": {}
  },
  {
   "cell_type": "code",
   "execution_count": 2,
   "metadata": {},
   "outputs": [
    {
     "output_type": "execute_result",
     "data": {
      "text/plain": [
       "                Age  Work_Experience  Spending_Score   Family_Size  \\\n",
       "count  10695.000000     10695.000000    10695.000000  10695.000000   \n",
       "mean       0.359322         0.175249        0.271295      0.231323   \n",
       "std        0.236256         0.232101        0.370073      0.188028   \n",
       "min        0.000000         0.000000        0.000000      0.000000   \n",
       "25%        0.169014         0.000000        0.000000      0.125000   \n",
       "50%        0.323944         0.071429        0.000000      0.250000   \n",
       "75%        0.492958         0.214286        0.500000      0.375000   \n",
       "max        1.000000         1.000000        1.000000      1.000000   \n",
       "\n",
       "               Male           Yes         Yes.1        Doctor      Engineer  \\\n",
       "count  10695.000000  10695.000000  10695.000000  10695.000000  10695.000000   \n",
       "mean       0.546143      0.594016      0.623843      0.086957      0.087424   \n",
       "std        0.497890      0.491104      0.484443      0.281785      0.282469   \n",
       "min        0.000000      0.000000      0.000000      0.000000      0.000000   \n",
       "25%        0.000000      0.000000      0.000000      0.000000      0.000000   \n",
       "50%        1.000000      1.000000      1.000000      0.000000      0.000000   \n",
       "75%        1.000000      1.000000      1.000000      0.000000      0.000000   \n",
       "max        1.000000      1.000000      1.000000      1.000000      1.000000   \n",
       "\n",
       "       Entertainment  ...    Healthcare     Homemaker        Lawyer  \\\n",
       "count   10695.000000  ...  10695.000000  10695.000000  10695.000000   \n",
       "mean        0.116877  ...      0.163628      0.030669      0.078915   \n",
       "std         0.321289  ...      0.369955      0.172426      0.269619   \n",
       "min         0.000000  ...      0.000000      0.000000      0.000000   \n",
       "25%         0.000000  ...      0.000000      0.000000      0.000000   \n",
       "50%         0.000000  ...      0.000000      0.000000      0.000000   \n",
       "75%         0.000000  ...      0.000000      0.000000      0.000000   \n",
       "max         1.000000  ...      1.000000      1.000000      1.000000   \n",
       "\n",
       "          Marketing         Cat_2         Cat_3         Cat_4         Cat_5  \\\n",
       "count  10695.000000  10695.000000  10695.000000  10695.000000  10695.000000   \n",
       "mean       0.037681      0.052641      0.101823      0.137915      0.010659   \n",
       "std        0.190433      0.223327      0.302430      0.344827      0.102696   \n",
       "min        0.000000      0.000000      0.000000      0.000000      0.000000   \n",
       "25%        0.000000      0.000000      0.000000      0.000000      0.000000   \n",
       "50%        0.000000      0.000000      0.000000      0.000000      0.000000   \n",
       "75%        0.000000      0.000000      0.000000      0.000000      0.000000   \n",
       "max        1.000000      1.000000      1.000000      1.000000      1.000000   \n",
       "\n",
       "              Cat_6         Cat_7  \n",
       "count  10695.000000  10695.000000  \n",
       "mean       0.656194      0.025152  \n",
       "std        0.474999      0.156594  \n",
       "min        0.000000      0.000000  \n",
       "25%        0.000000      0.000000  \n",
       "50%        1.000000      0.000000  \n",
       "75%        1.000000      0.000000  \n",
       "max        1.000000      1.000000  \n",
       "\n",
       "[8 rows x 21 columns]"
      ],
      "text/html": "<div>\n<style scoped>\n    .dataframe tbody tr th:only-of-type {\n        vertical-align: middle;\n    }\n\n    .dataframe tbody tr th {\n        vertical-align: top;\n    }\n\n    .dataframe thead th {\n        text-align: right;\n    }\n</style>\n<table border=\"1\" class=\"dataframe\">\n  <thead>\n    <tr style=\"text-align: right;\">\n      <th></th>\n      <th>Age</th>\n      <th>Work_Experience</th>\n      <th>Spending_Score</th>\n      <th>Family_Size</th>\n      <th>Male</th>\n      <th>Yes</th>\n      <th>Yes.1</th>\n      <th>Doctor</th>\n      <th>Engineer</th>\n      <th>Entertainment</th>\n      <th>...</th>\n      <th>Healthcare</th>\n      <th>Homemaker</th>\n      <th>Lawyer</th>\n      <th>Marketing</th>\n      <th>Cat_2</th>\n      <th>Cat_3</th>\n      <th>Cat_4</th>\n      <th>Cat_5</th>\n      <th>Cat_6</th>\n      <th>Cat_7</th>\n    </tr>\n  </thead>\n  <tbody>\n    <tr>\n      <th>count</th>\n      <td>10695.000000</td>\n      <td>10695.000000</td>\n      <td>10695.000000</td>\n      <td>10695.000000</td>\n      <td>10695.000000</td>\n      <td>10695.000000</td>\n      <td>10695.000000</td>\n      <td>10695.000000</td>\n      <td>10695.000000</td>\n      <td>10695.000000</td>\n      <td>...</td>\n      <td>10695.000000</td>\n      <td>10695.000000</td>\n      <td>10695.000000</td>\n      <td>10695.000000</td>\n      <td>10695.000000</td>\n      <td>10695.000000</td>\n      <td>10695.000000</td>\n      <td>10695.000000</td>\n      <td>10695.000000</td>\n      <td>10695.000000</td>\n    </tr>\n    <tr>\n      <th>mean</th>\n      <td>0.359322</td>\n      <td>0.175249</td>\n      <td>0.271295</td>\n      <td>0.231323</td>\n      <td>0.546143</td>\n      <td>0.594016</td>\n      <td>0.623843</td>\n      <td>0.086957</td>\n      <td>0.087424</td>\n      <td>0.116877</td>\n      <td>...</td>\n      <td>0.163628</td>\n      <td>0.030669</td>\n      <td>0.078915</td>\n      <td>0.037681</td>\n      <td>0.052641</td>\n      <td>0.101823</td>\n      <td>0.137915</td>\n      <td>0.010659</td>\n      <td>0.656194</td>\n      <td>0.025152</td>\n    </tr>\n    <tr>\n      <th>std</th>\n      <td>0.236256</td>\n      <td>0.232101</td>\n      <td>0.370073</td>\n      <td>0.188028</td>\n      <td>0.497890</td>\n      <td>0.491104</td>\n      <td>0.484443</td>\n      <td>0.281785</td>\n      <td>0.282469</td>\n      <td>0.321289</td>\n      <td>...</td>\n      <td>0.369955</td>\n      <td>0.172426</td>\n      <td>0.269619</td>\n      <td>0.190433</td>\n      <td>0.223327</td>\n      <td>0.302430</td>\n      <td>0.344827</td>\n      <td>0.102696</td>\n      <td>0.474999</td>\n      <td>0.156594</td>\n    </tr>\n    <tr>\n      <th>min</th>\n      <td>0.000000</td>\n      <td>0.000000</td>\n      <td>0.000000</td>\n      <td>0.000000</td>\n      <td>0.000000</td>\n      <td>0.000000</td>\n      <td>0.000000</td>\n      <td>0.000000</td>\n      <td>0.000000</td>\n      <td>0.000000</td>\n      <td>...</td>\n      <td>0.000000</td>\n      <td>0.000000</td>\n      <td>0.000000</td>\n      <td>0.000000</td>\n      <td>0.000000</td>\n      <td>0.000000</td>\n      <td>0.000000</td>\n      <td>0.000000</td>\n      <td>0.000000</td>\n      <td>0.000000</td>\n    </tr>\n    <tr>\n      <th>25%</th>\n      <td>0.169014</td>\n      <td>0.000000</td>\n      <td>0.000000</td>\n      <td>0.125000</td>\n      <td>0.000000</td>\n      <td>0.000000</td>\n      <td>0.000000</td>\n      <td>0.000000</td>\n      <td>0.000000</td>\n      <td>0.000000</td>\n      <td>...</td>\n      <td>0.000000</td>\n      <td>0.000000</td>\n      <td>0.000000</td>\n      <td>0.000000</td>\n      <td>0.000000</td>\n      <td>0.000000</td>\n      <td>0.000000</td>\n      <td>0.000000</td>\n      <td>0.000000</td>\n      <td>0.000000</td>\n    </tr>\n    <tr>\n      <th>50%</th>\n      <td>0.323944</td>\n      <td>0.071429</td>\n      <td>0.000000</td>\n      <td>0.250000</td>\n      <td>1.000000</td>\n      <td>1.000000</td>\n      <td>1.000000</td>\n      <td>0.000000</td>\n      <td>0.000000</td>\n      <td>0.000000</td>\n      <td>...</td>\n      <td>0.000000</td>\n      <td>0.000000</td>\n      <td>0.000000</td>\n      <td>0.000000</td>\n      <td>0.000000</td>\n      <td>0.000000</td>\n      <td>0.000000</td>\n      <td>0.000000</td>\n      <td>1.000000</td>\n      <td>0.000000</td>\n    </tr>\n    <tr>\n      <th>75%</th>\n      <td>0.492958</td>\n      <td>0.214286</td>\n      <td>0.500000</td>\n      <td>0.375000</td>\n      <td>1.000000</td>\n      <td>1.000000</td>\n      <td>1.000000</td>\n      <td>0.000000</td>\n      <td>0.000000</td>\n      <td>0.000000</td>\n      <td>...</td>\n      <td>0.000000</td>\n      <td>0.000000</td>\n      <td>0.000000</td>\n      <td>0.000000</td>\n      <td>0.000000</td>\n      <td>0.000000</td>\n      <td>0.000000</td>\n      <td>0.000000</td>\n      <td>1.000000</td>\n      <td>0.000000</td>\n    </tr>\n    <tr>\n      <th>max</th>\n      <td>1.000000</td>\n      <td>1.000000</td>\n      <td>1.000000</td>\n      <td>1.000000</td>\n      <td>1.000000</td>\n      <td>1.000000</td>\n      <td>1.000000</td>\n      <td>1.000000</td>\n      <td>1.000000</td>\n      <td>1.000000</td>\n      <td>...</td>\n      <td>1.000000</td>\n      <td>1.000000</td>\n      <td>1.000000</td>\n      <td>1.000000</td>\n      <td>1.000000</td>\n      <td>1.000000</td>\n      <td>1.000000</td>\n      <td>1.000000</td>\n      <td>1.000000</td>\n      <td>1.000000</td>\n    </tr>\n  </tbody>\n</table>\n<p>8 rows × 21 columns</p>\n</div>"
     },
     "metadata": {},
     "execution_count": 2
    }
   ],
   "source": [
    "df = pd.read_csv('./data/cleaned_data.csv')\n",
    "\n",
    "df.describe()"
   ]
  },
  {
   "cell_type": "code",
   "execution_count": 3,
   "metadata": {},
   "outputs": [],
   "source": [
    "def convert_label(x):\n",
    "    # 这里偷懒使用ASCII码.这里的意思是把A, B, C, D转为0, 1, 2, 3\n",
    "    return ord(x) - 65\n",
    "\n",
    "labels = df['Segmentation'].apply(lambda x: convert_label(x));\n",
    "\n",
    "x = df.drop('Segmentation', axis = 1)\n",
    "np.random.seed(1)\n",
    "rd = np.random.rand(len(df))\n",
    "\n",
    "# 我们选取大概20%的数据作为有标记数据,其余为无标记数据, 这里会把random值小于0.8的行变成true(需要变成无标记数据)\n",
    "rd = rd < 0.8\n",
    "\n",
    "# 把真实标签存下来,方便最后检查结果\n",
    "real_y = labels[rd]\n",
    "\n",
    "# 变为-1,即无标记数据\n",
    "labels[rd] = -1"
   ]
  },
  {
   "cell_type": "code",
   "execution_count": 4,
   "metadata": {},
   "outputs": [
    {
     "output_type": "stream",
     "name": "stdout",
     "text": [
      "无标记数据共8598个\n有标记数据共2097个\n"
     ]
    }
   ],
   "source": [
    "labeled = labels[~rd]\n",
    "nolabel = labels[rd]\n",
    "print(\"无标记数据共{}个\".format(len(nolabel)))\n",
    "print(\"有标记数据共{}个\".format(len(labeled)))"
   ]
  },
  {
   "source": [
    "查看一下无标记数据数量,以及各个标记现在在改造后数据集的状况"
   ],
   "cell_type": "markdown",
   "metadata": {}
  },
  {
   "cell_type": "code",
   "execution_count": 5,
   "metadata": {},
   "outputs": [
    {
     "output_type": "execute_result",
     "data": {
      "text/plain": [
       "-1    8598\n",
       " 3     604\n",
       " 0     544\n",
       " 2     490\n",
       " 1     459\n",
       "Name: Segmentation, dtype: int64"
      ]
     },
     "metadata": {},
     "execution_count": 5
    }
   ],
   "source": [
    "labels.value_counts()"
   ]
  },
  {
   "cell_type": "code",
   "execution_count": 6,
   "metadata": {},
   "outputs": [],
   "source": [
    "from sklearn.semi_supervised import LabelPropagation, LabelSpreading"
   ]
  },
  {
   "cell_type": "code",
   "execution_count": 7,
   "metadata": {},
   "outputs": [],
   "source": [
    "lp =LabelSpreading()\n",
    "lp.fit(x, labels)\n",
    "y_pred = lp.predict(x)\n",
    "\n",
    "# 重新预测-1部分\n",
    "y_pred = y_pred[rd]"
   ]
  },
  {
   "cell_type": "code",
   "execution_count": 8,
   "metadata": {},
   "outputs": [],
   "source": [
    "from sklearn.metrics import accuracy_score,recall_score,f1_score"
   ]
  },
  {
   "cell_type": "code",
   "execution_count": 9,
   "metadata": {},
   "outputs": [
    {
     "output_type": "stream",
     "name": "stdout",
     "text": [
      "准确率40.5908350779251%\n"
     ]
    }
   ],
   "source": [
    "print('准确率{}%'.format(accuracy_score(real_y,y_pred) * 100))"
   ]
  },
  {
   "cell_type": "code",
   "execution_count": 10,
   "metadata": {},
   "outputs": [
    {
     "output_type": "stream",
     "name": "stdout",
     "text": [
      "当和无监督学习方法对比时, 半监督学习的准确率为52.2393641888733%\n"
     ]
    }
   ],
   "source": [
    "acc = accuracy_score(real_y,y_pred)\n",
    "compared_acc = (acc * len(nolabel) + 1 * len(labeled))/len(df)\n",
    "print(\"当和无监督学习方法对比时, 半监督学习的准确率为{}%\".format(compared_acc * 100))"
   ]
  },
  {
   "cell_type": "code",
   "execution_count": null,
   "metadata": {},
   "outputs": [],
   "source": []
  }
 ]
}